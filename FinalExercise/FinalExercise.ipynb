{
  "nbformat": 4,
  "nbformat_minor": 0,
  "metadata": {
    "colab": {
      "provenance": [],
      "include_colab_link": true
    },
    "kernelspec": {
      "name": "python3",
      "display_name": "Python 3"
    },
    "language_info": {
      "name": "python"
    }
  },
  "cells": [
    {
      "cell_type": "markdown",
      "metadata": {
        "id": "view-in-github",
        "colab_type": "text"
      },
      "source": [
        "<a href=\"https://colab.research.google.com/github/flexycode/CCINCOML_EXERCISES_COM23P/blob/main/FinalExercise/FinalExercise.ipynb\" target=\"_parent\"><img src=\"https://colab.research.google.com/assets/colab-badge.svg\" alt=\"Open In Colab\"/></a>"
      ]
    },
    {
      "cell_type": "markdown",
      "source": [
        "# Final Exercise 🌹\n",
        "\n",
        "Please follow the instructions!\n",
        "\n",
        "<img src=\"https://i.pinimg.com/originals/80/db/e7/80dbe7a37ca3ea65ecac8dace1b599cc.gif\"/>"
      ],
      "metadata": {
        "id": "1lyup4WJ0U88"
      }
    },
    {
      "cell_type": "markdown",
      "source": [
        "1. Create a list called `myname` that contains the characters of your first name"
      ],
      "metadata": {
        "id": "TNpD9hmk4_N-"
      }
    },
    {
      "cell_type": "code",
      "source": [
        "# Define a variable to store my name\n",
        "myname = list('JAY ARRE')\n",
        "\n",
        "# Print my the result\n",
        "print(myname)"
      ],
      "metadata": {
        "id": "CrsirJckmsR7",
        "outputId": "462c95c4-84f7-4325-821d-16e7cb42c340",
        "colab": {
          "base_uri": "https://localhost:8080/"
        }
      },
      "execution_count": 18,
      "outputs": [
        {
          "output_type": "stream",
          "name": "stdout",
          "text": [
            "['J', 'A', 'Y', ' ', 'A', 'R', 'R', 'E']\n"
          ]
        }
      ]
    },
    {
      "cell_type": "markdown",
      "source": [
        "  Another Python Script using the hard way :)\n"
      ],
      "metadata": {
        "id": "gDbtzTvrmurV"
      }
    },
    {
      "cell_type": "code",
      "source": [
        "# Define a variable to store my first name\n",
        "first_name = \"JAY ARRE\"\n",
        "\n",
        "# Create an empty list to store the characters of my name\n",
        "myname = []\n",
        "\n",
        "# Iterate over each character in my first name\n",
        "for char in first_name:\n",
        "    # Append each character to the list\n",
        "    myname.append(char)\n",
        "\n",
        "# Print the resulting list\n",
        "print(myname)"
      ],
      "metadata": {
        "id": "bpXg-iQt4-sQ",
        "outputId": "dd8b45c9-cba0-4256-80b1-ce87d154cf1e",
        "colab": {
          "base_uri": "https://localhost:8080/"
        }
      },
      "execution_count": 15,
      "outputs": [
        {
          "output_type": "stream",
          "name": "stdout",
          "text": [
            "['J', 'A', 'Y', ' ', 'A', 'R', 'R', 'E']\n"
          ]
        }
      ]
    },
    {
      "cell_type": "markdown",
      "source": [
        "2. Create a list called `mynumber` that contains all the numbers of your student number"
      ],
      "metadata": {
        "id": "iorlqXkq5FgY"
      }
    },
    {
      "cell_type": "code",
      "source": [
        "# Create a list and store the numbers\n",
        "mynumber = list('2014200343')\n",
        "\n",
        "# Print the list of my student number\n",
        "print(mynumber)"
      ],
      "metadata": {
        "id": "UhKjltFZnoyM",
        "outputId": "71385a14-3d07-4616-ec68-6a21fbf506bb",
        "colab": {
          "base_uri": "https://localhost:8080/"
        }
      },
      "execution_count": 20,
      "outputs": [
        {
          "output_type": "stream",
          "name": "stdout",
          "text": [
            "['2', '0', '1', '4', '2', '0', '0', '3', '4', '3']\n"
          ]
        }
      ]
    },
    {
      "cell_type": "markdown",
      "source": [
        "Another Python Script Using the hard way."
      ],
      "metadata": {
        "id": "S3ol575moXga"
      }
    },
    {
      "cell_type": "code",
      "source": [
        "# Student number: 2014-200343\n",
        "\n",
        "# Split the student number into two parts\n",
        "year = \"2014\"\n",
        "number = \"200343\"\n",
        "\n",
        "# Create a list to store the numbers\n",
        "mynumber = []\n",
        "\n",
        "# Add each digit from the year to the list\n",
        "for digit in year:\n",
        "    mynumber.append(int(digit))\n",
        "\n",
        "# Add each digit from the number to the list\n",
        "for digit in number:\n",
        "    mynumber.append(int(digit))\n",
        "\n",
        "# Print the list of my number\n",
        "print(mynumber)\n"
      ],
      "metadata": {
        "id": "JciPeaYr49B7",
        "outputId": "3bc2e8ea-e6f4-47ab-890c-9e43e0a2f0b9",
        "colab": {
          "base_uri": "https://localhost:8080/"
        }
      },
      "execution_count": 22,
      "outputs": [
        {
          "output_type": "stream",
          "name": "stdout",
          "text": [
            "[2, 0, 1, 4, 2, 0, 0, 3, 4, 3]\n"
          ]
        }
      ]
    },
    {
      "cell_type": "markdown",
      "source": [
        "Another solution for basic python script without using .append()"
      ],
      "metadata": {
        "id": "sOxVqvoXhS3x"
      }
    },
    {
      "cell_type": "code",
      "source": [
        "# Create a list and store the student number\n",
        "student_number = 2014200343\n",
        "\n",
        "mynumber = [int(digit) for digit in str(student_number)]\n",
        "\n",
        "# Print my number\n",
        "print(mynumber)"
      ],
      "metadata": {
        "id": "8rZzY5xghO8-",
        "outputId": "0c51f713-2f55-4499-bc98-71eb8843e7a6",
        "colab": {
          "base_uri": "https://localhost:8080/"
        }
      },
      "execution_count": 23,
      "outputs": [
        {
          "output_type": "stream",
          "name": "stdout",
          "text": [
            "[2, 0, 1, 4, 2, 0, 0, 3, 4, 3]\n"
          ]
        }
      ]
    },
    {
      "cell_type": "markdown",
      "source": [
        "3. Write a python function named `geteven()` that will:\n",
        "\n",
        "- Accept a list of your student number\n",
        "- Return a list with only even numbers\n",
        "\n",
        "-------------------------------------\n",
        "\n",
        "Example:\n",
        "\n",
        "mynumber = [2,0,2,3,1,2,3,4,5,6]\n",
        "\n",
        "geteven(mynumber)\n",
        "\n",
        "Output should be:\n",
        "\n",
        "[2,0,2,2,4,6]"
      ],
      "metadata": {
        "id": "yQ2wZKD-0X7_"
      }
    },
    {
      "cell_type": "code",
      "execution_count": 7,
      "metadata": {
        "id": "9HUAAC9h0Tu6",
        "outputId": "14ab7314-3068-4851-aa77-0cda0e48bcd0",
        "colab": {
          "base_uri": "https://localhost:8080/"
        }
      },
      "outputs": [
        {
          "output_type": "stream",
          "name": "stdout",
          "text": [
            "[2, 0, 4, 2, 0, 0, 4]\n"
          ]
        }
      ],
      "source": [
        "# Create or define a function for geteven()\n",
        "def geteven(numbers):\n",
        "    # Create an empty list to store the even numbers\n",
        "    even_numbers = []\n",
        "\n",
        "    # Iterate over each number in the given list\n",
        "    for number in numbers:\n",
        "        # Check if the number is even\n",
        "        if number % 2 == 0:\n",
        "            # If it's even, add it to the even_numbers list\n",
        "            even_numbers.append(number)\n",
        "\n",
        "    # Return the list of even numbers\n",
        "    return even_numbers\n",
        "\n",
        "# My Student ID Number\n",
        "mynumber = [2, 0, 1, 4, 2, 0, 0, 3, 4, 3]\n",
        "result = geteven(mynumber)\n",
        "\n",
        "# Print the result\n",
        "print(result)"
      ]
    },
    {
      "cell_type": "markdown",
      "source": [
        "4. Write a python function named `reverseName()` that will:\n",
        "\n",
        "- Accept a list of your name\n",
        "- Return a list of your name in reverse order\n",
        "\n",
        "-------------------------------------\n",
        "\n",
        "Example:\n",
        "\n",
        "myname = ['E', 'L', 'I', 'Z', 'E', 'R']\n",
        "\n",
        "reverseName(myname)\n",
        "\n",
        "Output should be:\n",
        "\n",
        "['R', 'E', 'Z', 'I', 'L', 'E']"
      ],
      "metadata": {
        "id": "51HBYD8V0agR"
      }
    },
    {
      "cell_type": "code",
      "source": [
        "# Create or define a function for reverseName()\n",
        "def reverseName(name):\n",
        "    # Use the reverse() method to reverse the list in-place\n",
        "    name.reverse()\n",
        "    return name\n",
        "\n",
        "# My name usage and reverse function\n",
        "myname = ['J', 'A', 'Y', 'A', 'R', 'R', 'E']\n",
        "reversed_name = reverseName(myname)\n",
        "\n",
        "# Print reverse name\n",
        "print(reversed_name)"
      ],
      "metadata": {
        "id": "cwtaNJcc0a1o",
        "outputId": "3019a1af-3590-4fb4-92d9-1f6ea1ab1416",
        "colab": {
          "base_uri": "https://localhost:8080/"
        }
      },
      "execution_count": 8,
      "outputs": [
        {
          "output_type": "stream",
          "name": "stdout",
          "text": [
            "['E', 'R', 'R', 'A', 'Y', 'A', 'J']\n"
          ]
        }
      ]
    },
    {
      "cell_type": "markdown",
      "source": [
        "5. Write a python function named `countVowel()` that will:\n",
        "\n",
        "- Accept a list of your name\n",
        "- Return the number of vowels of your name in the list\n",
        "\n",
        "-------------------------------------\n",
        "\n",
        "Example:\n",
        "\n",
        "myname = ['E', 'L', 'I', 'Z', 'E', 'R']\n",
        "\n",
        "countVowel(myname)\n",
        "\n",
        "Output should be:\n",
        "\n",
        "3"
      ],
      "metadata": {
        "id": "z98DkSZj0bKE"
      }
    },
    {
      "cell_type": "code",
      "source": [
        "# Create or define a function for countVowel()\n",
        "def countVowel(name):\n",
        "    vowels = ['A', 'E', 'I', 'O', 'U']  # List of vowels\n",
        "    count = 0  # Variable to store the count of vowels\n",
        "\n",
        "    for letter in name:\n",
        "        if letter.upper() in vowels:  # Convert the letter to uppercase and check if it is a vowel\n",
        "            count += 1  # Increment the count if the letter is a vowel\n",
        "\n",
        "    return count\n",
        "\n",
        "# Test the function\n",
        "myname = ['J', 'A', 'Y', 'A', 'R', 'R' 'E']\n",
        "result = countVowel(myname)\n",
        "\n",
        "# Print result\n",
        "print(result)\n"
      ],
      "metadata": {
        "id": "djNZGq0P0bft",
        "outputId": "efa2139a-78c7-46cf-c795-4247124e20cc",
        "colab": {
          "base_uri": "https://localhost:8080/"
        }
      },
      "execution_count": 12,
      "outputs": [
        {
          "output_type": "stream",
          "name": "stdout",
          "text": [
            "2\n"
          ]
        }
      ]
    },
    {
      "cell_type": "markdown",
      "source": [
        "## Farewell note\n",
        "\n",
        "It has been a pleasure to teach you this term even for a short period of time.\n",
        "\n",
        "I know that not all people like computer programming but please give it more time for you to find a place in your heart ❤️\n",
        "\n",
        "From my experience, people tend to learn skills when they need it and not when they want to. It is very hard to learn any skill if you do not have any use for it.\n",
        "\n",
        "The challenge for us educators is to show the next generation that programming is a very important skill and that the world needs people like you.\n",
        "\n",
        "Programming is a very fulfilling profession because you can solve the world's problems through your own creativity and passion.\n",
        "\n",
        "I hope that you can find your own purpose in life through programming and make our world a better place 🌎\n",
        "\n",
        "Your teacher,\n",
        "\n",
        "Elizer Ponio Jr."
      ],
      "metadata": {
        "id": "7YuM6TiO8Tsj"
      }
    }
  ]
}