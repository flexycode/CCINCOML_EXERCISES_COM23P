{
  "nbformat": 4,
  "nbformat_minor": 0,
  "metadata": {
    "colab": {
      "provenance": [],
      "collapsed_sections": [
        "FKj-F10WsctE"
      ],
      "include_colab_link": true
    },
    "kernelspec": {
      "name": "python3",
      "display_name": "Python 3"
    },
    "language_info": {
      "name": "python"
    }
  },
  "cells": [
    {
      "cell_type": "markdown",
      "metadata": {
        "id": "view-in-github",
        "colab_type": "text"
      },
      "source": [
        "<a href=\"https://colab.research.google.com/github/flexycode/CCINCOML_EXERCISES_COM23P/blob/main/exercise6/exercise6.ipynb\" target=\"_parent\"><img src=\"https://colab.research.google.com/assets/colab-badge.svg\" alt=\"Open In Colab\"/></a>"
      ]
    },
    {
      "cell_type": "markdown",
      "source": [
        "# Exercise 6"
      ],
      "metadata": {
        "id": "2YKNSy_M9wSB"
      }
    },
    {
      "cell_type": "markdown",
      "source": [
        "## Lists"
      ],
      "metadata": {
        "id": "waosO4TAeA-S"
      }
    },
    {
      "cell_type": "markdown",
      "source": [
        "1. Create a list\n",
        "\n",
        "- The name of the new list should be  `month`\n",
        "\n",
        "- The list should contain all the months in a year (January, February, March, April, May, June, July, August, September, October, November, December)"
      ],
      "metadata": {
        "id": "AW0H1ylt3H9g"
      }
    },
    {
      "cell_type": "code",
      "execution_count": 1,
      "metadata": {
        "id": "3a9CllzZ28_6",
        "outputId": "60af05a1-a7c3-4522-f46d-32aa97b255da",
        "colab": {
          "base_uri": "https://localhost:8080/"
        }
      },
      "outputs": [
        {
          "output_type": "stream",
          "name": "stdout",
          "text": [
            "['January', 'February', 'March', 'April', 'May', 'June', 'July', 'August', 'September', 'October', 'November', 'December']\n"
          ]
        }
      ],
      "source": [
        "# Create a list called \"month\" containing all the months in a year\n",
        "month = [\"January\", \"February\", \"March\", \"April\", \"May\", \"June\", \"July\", \"August\", \"September\", \"October\", \"November\", \"December\"]\n",
        "\n",
        "# Print the list of months\n",
        "print(month)"
      ]
    },
    {
      "cell_type": "markdown",
      "source": [
        "2. Display an element\n",
        "\n",
        "- Display the fourth element 'April' in the `month` list"
      ],
      "metadata": {
        "id": "lDgi4WMA3UDM"
      }
    },
    {
      "cell_type": "code",
      "source": [
        "# Create a list called \"month\" containing all the months in a year\n",
        "month = ['January', 'February', 'March', 'April', 'May', 'June', 'July', 'August', 'September', 'October', 'November', 'December']\n",
        "\n",
        "# Print the fourth element which is 'April' in the month list\n",
        "print(month[3])"
      ],
      "metadata": {
        "id": "-K4Umghk34X3",
        "outputId": "166a4c84-8791-4aa3-ddc8-20f4a965f24b",
        "colab": {
          "base_uri": "https://localhost:8080/"
        }
      },
      "execution_count": 2,
      "outputs": [
        {
          "output_type": "stream",
          "name": "stdout",
          "text": [
            "April\n"
          ]
        }
      ]
    },
    {
      "cell_type": "markdown",
      "source": [
        "3. Slice the list\n",
        "\n",
        "- Use slicing to get the last 4 months of the year of (September, October, November, December) of the `month` list"
      ],
      "metadata": {
        "id": "2sgJy-_C4N8b"
      }
    },
    {
      "cell_type": "code",
      "source": [
        "# Create a list of all the months\n",
        "months = ['January', 'February', 'March', 'April', 'May', 'June', 'July', 'August', 'September', 'October', 'November', 'December']\n",
        "\n",
        "# Slice the list to get the last 4 months\n",
        "last_four_months = months[-4:]\n",
        "\n",
        "# Print the last four months\n",
        "print(last_four_months)"
      ],
      "metadata": {
        "id": "xARijZmm4bp2",
        "outputId": "61c3fc4f-af1b-4640-e1aa-9884203afd5b",
        "colab": {
          "base_uri": "https://localhost:8080/"
        }
      },
      "execution_count": 3,
      "outputs": [
        {
          "output_type": "stream",
          "name": "stdout",
          "text": [
            "['September', 'October', 'November', 'December']\n"
          ]
        }
      ]
    },
    {
      "cell_type": "markdown",
      "source": [
        "- Use slicing to get the first 4 months of the year (January, February, March, April) of the `month` list"
      ],
      "metadata": {
        "id": "ZNYReiVbp4qN"
      }
    },
    {
      "cell_type": "code",
      "source": [
        "# Define the month list\n",
        "month = ['January', 'February', 'March', 'April', 'May', 'June', 'July', 'August', 'September', 'October', 'November', 'December']\n",
        "\n",
        "# Use slicing to get the first 4 months\n",
        "first_four_months = month[:4]\n",
        "\n",
        "# Print the result\n",
        "print(first_four_months)"
      ],
      "metadata": {
        "id": "5QEm97VXp5Bi",
        "outputId": "8b9dccbb-37c0-4e72-cbb8-239637e1216d",
        "colab": {
          "base_uri": "https://localhost:8080/"
        }
      },
      "execution_count": 4,
      "outputs": [
        {
          "output_type": "stream",
          "name": "stdout",
          "text": [
            "['January', 'February', 'March', 'April']\n"
          ]
        }
      ]
    },
    {
      "cell_type": "markdown",
      "source": [
        "4. List Methods\n",
        "\n",
        "- Get the size of the month list using the `len()` method"
      ],
      "metadata": {
        "id": "wZBoOGlh4zf9"
      }
    },
    {
      "cell_type": "code",
      "source": [
        "# Create a list of months\n",
        "months = ['January', 'February', 'March', 'April', 'May', 'June', 'July', 'August', 'September', 'October', 'November', 'December']\n",
        "\n",
        "# Get the size of the month list using the len() method\n",
        "num_of_months = len(months)\n",
        "\n",
        "# Print the size of the month list\n",
        "print(\"The size of the month list is:\", num_of_months)"
      ],
      "metadata": {
        "id": "0xoFuFFw48AX",
        "outputId": "3045b933-3a24-4249-eebe-38a2aa77e6e5",
        "colab": {
          "base_uri": "https://localhost:8080/"
        }
      },
      "execution_count": 5,
      "outputs": [
        {
          "output_type": "stream",
          "name": "stdout",
          "text": [
            "The size of the month list is: 12\n"
          ]
        }
      ]
    },
    {
      "cell_type": "markdown",
      "source": [
        "- Get the element with the largest value of the month list using `max()`"
      ],
      "metadata": {
        "id": "P5bCjc8Xq4Fd"
      }
    },
    {
      "cell_type": "code",
      "source": [
        "# Define the list of months\n",
        "months = ['January', 'February', 'March', 'April', 'May', 'June', 'July', 'August', 'September', 'October', 'November', 'December']\n",
        "\n",
        "# Find the element with the largest value using the max() function\n",
        "largest_month = max(months)\n",
        "\n",
        "# Print the result\n",
        "print(\"The element with the largest value in the list is:\", largest_month)"
      ],
      "metadata": {
        "id": "Yp3BmlEQq4k7",
        "outputId": "22e61441-9cbd-47ea-e901-a2e452d4e0da",
        "colab": {
          "base_uri": "https://localhost:8080/"
        }
      },
      "execution_count": 6,
      "outputs": [
        {
          "output_type": "stream",
          "name": "stdout",
          "text": [
            "The element with the largest value in the list is: September\n"
          ]
        }
      ]
    },
    {
      "cell_type": "markdown",
      "source": [
        "- Get the element with the smallest value of the month list using `min()`"
      ],
      "metadata": {
        "id": "dGXbdxgJq5HC"
      }
    },
    {
      "cell_type": "code",
      "source": [
        "# Define a list of months\n",
        "months = ['January', 'February', 'March', 'April', 'May', 'June', 'July', 'August', 'September', 'October', 'November', 'December']\n",
        "\n",
        "# Find the element with the smallest value using the min() function\n",
        "smallest_month = min(months)\n",
        "\n",
        "# Print the result\n",
        "print(\"The month with the smallest value is:\", smallest_month)"
      ],
      "metadata": {
        "id": "2CIePRDMq5aN",
        "outputId": "12b25fcf-728d-45f9-8fd9-b486a98afb9c",
        "colab": {
          "base_uri": "https://localhost:8080/"
        }
      },
      "execution_count": 7,
      "outputs": [
        {
          "output_type": "stream",
          "name": "stdout",
          "text": [
            "The month with the smallest value is: April\n"
          ]
        }
      ]
    },
    {
      "cell_type": "markdown",
      "source": [
        "- Sort the months of the year by alphabetical order using the `sorted()` function"
      ],
      "metadata": {
        "id": "rmnq1YbHta7L"
      }
    },
    {
      "cell_type": "code",
      "source": [
        "# Define a list of months\n",
        "months = ['January', 'February', 'March', 'April', 'May', 'June', 'July', 'August', 'September', 'October', 'November', 'December']\n",
        "\n",
        "# Use the sorted() function to sort the months in alphabetical order\n",
        "sorted_months = sorted(months)\n",
        "\n",
        "# Print the sorted months\n",
        "for month in sorted_months:\n",
        "    print(month)"
      ],
      "metadata": {
        "id": "EBB3CLFGtbKg",
        "outputId": "4660bb8f-8cd7-456a-9e89-b6bd286860e5",
        "colab": {
          "base_uri": "https://localhost:8080/"
        }
      },
      "execution_count": 8,
      "outputs": [
        {
          "output_type": "stream",
          "name": "stdout",
          "text": [
            "April\n",
            "August\n",
            "December\n",
            "February\n",
            "January\n",
            "July\n",
            "June\n",
            "March\n",
            "May\n",
            "November\n",
            "October\n",
            "September\n"
          ]
        }
      ]
    },
    {
      "cell_type": "markdown",
      "source": [
        "## Tuple"
      ],
      "metadata": {
        "id": "R4Rkhy42sWQc"
      }
    },
    {
      "cell_type": "markdown",
      "source": [
        "1. Create a tuple with only three elements, the elements are:\n",
        "\n",
        "- Your month of birth in integers\n",
        "- Your day of birth in integers\n",
        "- Your year of birth in integers\n",
        "\n",
        "Use tuple unpacking to directly assign the month, day, year variable to each elements in your tuple."
      ],
      "metadata": {
        "id": "0qdb8lX53Iux"
      }
    },
    {
      "cell_type": "code",
      "source": [
        "def get_birthdate():\n",
        "    # Create a tuple with the birthdate elements\n",
        "    birthdate = (12, 30, 1995)  # Replace with your actual birthdate\n",
        "\n",
        "    # Unpack the tuple into separate variables\n",
        "    month, day, year = birthdate\n",
        "\n",
        "    # Return the individual elements\n",
        "    return month, day, year\n",
        "\n",
        "# Call the function and print the result\n",
        "print(get_birthdate())"
      ],
      "metadata": {
        "id": "E14Lb0Y0wwzL",
        "outputId": "39553e99-d796-4917-a7d7-328f6113d5e7",
        "colab": {
          "base_uri": "https://localhost:8080/"
        }
      },
      "execution_count": 9,
      "outputs": [
        {
          "output_type": "stream",
          "name": "stdout",
          "text": [
            "(12, 30, 1995)\n"
          ]
        }
      ]
    },
    {
      "cell_type": "markdown",
      "source": [
        "## Set\n"
      ],
      "metadata": {
        "id": "pqgIEqbksah2"
      }
    },
    {
      "cell_type": "markdown",
      "source": [
        "1. The list below contains a number of a products of a computer store. Notice that there are duplicate values."
      ],
      "metadata": {
        "id": "PxFhHDRg2zXs"
      }
    },
    {
      "cell_type": "code",
      "source": [
        "products = [\"laptop\", \"smartphone\", \"tablet\", \"mouse\" ,\"powerbank\", \"headphones\", \"laptop\", \"speakers\", \"printer\", \"monitor\", \"projector\", \"mouse\", \"keyboard\"]"
      ],
      "metadata": {
        "id": "WXYdz82fxpdU"
      },
      "execution_count": 11,
      "outputs": []
    },
    {
      "cell_type": "markdown",
      "source": [
        "The difference between a list and a set is that a list allows duplicate values. One way to remove duplicates is to convert a list into a set.\n",
        "\n",
        "Convert the `products` list into a set"
      ],
      "metadata": {
        "id": "vr-5xd3f2Vgn"
      }
    },
    {
      "cell_type": "code",
      "source": [
        "# Define the products list\n",
        "products = [\"laptop\", \"smartphone\", \"tablet\", \"mouse\", \"powerbank\", \"headphones\", \"laptop\", \"speakers\", \"printer\", \"monitor\", \"projector\", \"mouse\", \"keyboard\"]\n",
        "\n",
        "# Convert the products list into a set\n",
        "unique_products = set(products)\n",
        "\n",
        "# Print the unique products\n",
        "print(unique_products)"
      ],
      "metadata": {
        "id": "Z_Ao388J2f50",
        "outputId": "6a83315c-611d-432d-9c60-6382cdcbe90e",
        "colab": {
          "base_uri": "https://localhost:8080/"
        }
      },
      "execution_count": 1,
      "outputs": [
        {
          "output_type": "stream",
          "name": "stdout",
          "text": [
            "{'keyboard', 'mouse', 'projector', 'headphones', 'speakers', 'powerbank', 'printer', 'monitor', 'laptop', 'smartphone', 'tablet'}\n"
          ]
        }
      ]
    },
    {
      "cell_type": "markdown",
      "source": [
        "2. Verify if \"headphones\" exists in the `products` set  using the `in` operator"
      ],
      "metadata": {
        "id": "d9fOZL4g3a9t"
      }
    },
    {
      "cell_type": "code",
      "source": [
        "# Define the products list\n",
        "products = [\"laptop\", \"smartphone\", \"tablet\", \"mouse\", \"powerbank\", \"headphones\", \"laptop\", \"speakers\", \"printer\", \"monitor\", \"projector\", \"mouse\", \"keyboard\"]\n",
        "\n",
        "# Function to verify if \"headphones\" exists in the products set\n",
        "def verify_headphones(products_set):\n",
        "    # Use the 'in' operator to check if \"headphones\" is in the set\n",
        "    if \"headphones\" in products_set:\n",
        "        return True\n",
        "    else:\n",
        "        return False\n",
        "\n",
        "# Call the function and print the result\n",
        "print(verify_headphones(products))"
      ],
      "metadata": {
        "id": "ETJJFv-u3b23",
        "outputId": "e5e9f125-e1e3-406a-b89f-379334fe5741",
        "colab": {
          "base_uri": "https://localhost:8080/"
        }
      },
      "execution_count": 2,
      "outputs": [
        {
          "output_type": "stream",
          "name": "stdout",
          "text": [
            "True\n"
          ]
        }
      ]
    },
    {
      "cell_type": "markdown",
      "source": [
        "## Dictionaries"
      ],
      "metadata": {
        "id": "FKj-F10WsctE"
      }
    },
    {
      "cell_type": "markdown",
      "source": [
        "1. Create a dictionary of your favorites\n",
        "\n",
        "- Keys should be the type\n",
        "- Values should be the sample from that type\n",
        "\n",
        "Example:\n",
        "\n",
        "food: friedchicken\n",
        "\n",
        "color: blue\n",
        "\n",
        "sport: badminton\n",
        "\n",
        "drink: mangojuice\n",
        "\n",
        "dessert: cheesetart\n"
      ],
      "metadata": {
        "id": "71KOC3D94P7m"
      }
    },
    {
      "cell_type": "code",
      "source": [
        "# Create a dictionary of favorites\n",
        "favorites = {\n",
        "    'food': 'bulalo',\n",
        "    'color': 'purple',\n",
        "    'sport': 'basketball',\n",
        "    'drink': 'sprite',\n",
        "    'dessert': 'avocado salad'\n",
        "}\n",
        "\n",
        "# Print the dictionary\n",
        "print(favorites)"
      ],
      "metadata": {
        "id": "8lrrq4xT3Zww",
        "outputId": "ba7f42ae-9224-40e9-f31d-4c592386d540",
        "colab": {
          "base_uri": "https://localhost:8080/"
        }
      },
      "execution_count": 3,
      "outputs": [
        {
          "output_type": "stream",
          "name": "stdout",
          "text": [
            "{'food': 'bulalo', 'color': 'purple', 'sport': 'basketball', 'drink': 'sprite', 'dessert': 'avocado salad'}\n"
          ]
        }
      ]
    },
    {
      "cell_type": "markdown",
      "source": [
        "## Loops"
      ],
      "metadata": {
        "id": "cbsI1vwD1nI7"
      }
    },
    {
      "cell_type": "markdown",
      "source": [
        "1. Write a for loop to iterate all elements of the `month` list. Print each element for every iteration."
      ],
      "metadata": {
        "id": "VV429-WhDmzU"
      }
    },
    {
      "cell_type": "code",
      "source": [
        "# Define the month list\n",
        "month = ['January', 'February', 'March', 'April', 'May', 'June', 'July', 'August', 'September', 'October', 'November', 'December']\n",
        "\n",
        "# Iterate through each element of the month list\n",
        "for m in month:\n",
        "\n",
        "    # Print each element\n",
        "    print(m)"
      ],
      "metadata": {
        "id": "Ki5-XrM_DnNp",
        "outputId": "8adb514e-dde1-4a38-c381-8efe6e6d1a43",
        "colab": {
          "base_uri": "https://localhost:8080/"
        }
      },
      "execution_count": 8,
      "outputs": [
        {
          "output_type": "stream",
          "name": "stdout",
          "text": [
            "January\n",
            "February\n",
            "March\n",
            "April\n",
            "May\n",
            "June\n",
            "July\n",
            "August\n",
            "September\n",
            "October\n",
            "November\n",
            "December\n"
          ]
        }
      ]
    },
    {
      "cell_type": "markdown",
      "source": [
        "2. Write a for loop and add a condition to only display the elements in the `month` list that ends with \"ber\""
      ],
      "metadata": {
        "id": "XaezrcWxEEQd"
      }
    },
    {
      "cell_type": "code",
      "source": [
        "# Define the month list\n",
        "months = ['January', 'February', 'March', 'April', 'May', 'June', 'July', 'August', 'September', 'October', 'November', 'December']\n",
        "\n",
        "# Loop through each month in the list\n",
        "for month in months:\n",
        "    # Check if the month ends with \"ber\"\n",
        "    if month.endswith('ber'):\n",
        "        # Display the month\n",
        "        print(month)"
      ],
      "metadata": {
        "id": "LR4utW6rEEm1",
        "outputId": "d0c41ed6-5b08-4315-b189-58e446ba0955",
        "colab": {
          "base_uri": "https://localhost:8080/"
        }
      },
      "execution_count": 9,
      "outputs": [
        {
          "output_type": "stream",
          "name": "stdout",
          "text": [
            "September\n",
            "October\n",
            "November\n",
            "December\n"
          ]
        }
      ]
    },
    {
      "cell_type": "markdown",
      "source": [
        "3. Write a for loop and add a condition to only display the elements in the `month` list that does not end with \"ber\""
      ],
      "metadata": {
        "id": "WcBRUEaFFHWf"
      }
    },
    {
      "cell_type": "code",
      "source": [
        "# Define the list of months\n",
        "months = [\"January\", \"February\", \"March\", \"April\", \"May\", \"June\", \"July\", \"August\", \"September\", \"October\", \"November\", \"December\"]\n",
        "\n",
        "# Loop through each month in the list\n",
        "for month in months:\n",
        "    # Check if the month does not end with \"ber\"\n",
        "    if not month.endswith(\"ber\"):\n",
        "        # Display the month\n",
        "        print(month)"
      ],
      "metadata": {
        "id": "Bw5D0HLNFHrs",
        "outputId": "d86d7e68-9557-41f4-c267-23f44123c10a",
        "colab": {
          "base_uri": "https://localhost:8080/"
        }
      },
      "execution_count": 10,
      "outputs": [
        {
          "output_type": "stream",
          "name": "stdout",
          "text": [
            "January\n",
            "February\n",
            "March\n",
            "April\n",
            "May\n",
            "June\n",
            "July\n",
            "August\n"
          ]
        }
      ]
    },
    {
      "cell_type": "markdown",
      "source": [
        "4. Write a for loop and use `range()` to display your firstname five times"
      ],
      "metadata": {
        "id": "gpvQU9hfF0TF"
      }
    },
    {
      "cell_type": "code",
      "source": [
        "# Displaying firstname five times using a for loop and range()\n",
        "\n",
        "firstname = \"Jay Arre\"\n",
        "\n",
        "for i in range(5):\n",
        "    print(firstname)"
      ],
      "metadata": {
        "id": "o-NhO5_nF0hN",
        "outputId": "5465f286-48ab-4f55-ed09-20da283b7935",
        "colab": {
          "base_uri": "https://localhost:8080/"
        }
      },
      "execution_count": 11,
      "outputs": [
        {
          "output_type": "stream",
          "name": "stdout",
          "text": [
            "Jay Arre\n",
            "Jay Arre\n",
            "Jay Arre\n",
            "Jay Arre\n",
            "Jay Arre\n"
          ]
        }
      ]
    },
    {
      "cell_type": "markdown",
      "source": [
        "5. Write a for loop that iterates over the names list to create a usernames list.\n",
        "\n",
        "To create a username for each name, make everything lowercase and replace spaces with underscores. Running your for loop over the list:\n",
        "\n",
        "Example:\n",
        "\n",
        "names = [\"Joey Tribbiani\", \"Monica Geller\", \"Chandler Bing\", \"Phoebe Buffay\"]\n",
        "\n",
        "should create a new list\n",
        "\n",
        "usernames = [\"joey_tribbiani\", \"monica_geller\", \"chandler_bing\", \"phoebe_buffay\"]"
      ],
      "metadata": {
        "id": "VLcFGqI9GUic"
      }
    },
    {
      "cell_type": "code",
      "source": [
        "# Define the names list\n",
        "names = [\"Luka Dončić\", \"Kento Yamazaki\", \"Lee Jiwoo\", \"Eimi Fukada\"]\n",
        "\n",
        "# Create an empty usernames list\n",
        "usernames = []\n",
        "\n",
        "# Iterate over each name in the names list\n",
        "for name in names:\n",
        "    # Convert the name to lowercase and replace spaces with underscores\n",
        "    username = name.lower().replace(\" \", \"_\")\n",
        "    # Append the username to the usernames list\n",
        "    usernames.append(username)\n",
        "\n",
        "# Print the usernames list\n",
        "print(usernames)"
      ],
      "metadata": {
        "id": "IqqiHcX_GUzw",
        "outputId": "823432ef-3e73-4d83-c24f-e9c61f3141a1",
        "colab": {
          "base_uri": "https://localhost:8080/"
        }
      },
      "execution_count": 12,
      "outputs": [
        {
          "output_type": "stream",
          "name": "stdout",
          "text": [
            "['luka_dončić', 'kento_yamazaki', 'lee_jiwoo', 'eimi_fukada']\n"
          ]
        }
      ]
    },
    {
      "cell_type": "markdown",
      "source": [
        "6. Write a while loop to iterate throught the `month` list\n",
        "\n",
        "- Break the loop if the element ends with \"ber\""
      ],
      "metadata": {
        "id": "6OPeRpAtI10D"
      }
    },
    {
      "cell_type": "code",
      "source": [
        "# Define the list of months\n",
        "month = [\"January\", \"February\", \"March\", \"April\", \"May\", \"June\", \"July\", \"August\", \"September\", \"October\", \"November\", \"December\"]\n",
        "\n",
        "# Iterate through the month list\n",
        "for m in month:\n",
        "    # Check if the element ends with \"ber\"\n",
        "    if m.endswith(\"ber\"):\n",
        "        break\n",
        "    # Print the month\n",
        "    print(m)"
      ],
      "metadata": {
        "id": "0sDyOhMXI2TX",
        "outputId": "9188f49a-7112-4b74-9ed7-0cfb6052c6f1",
        "colab": {
          "base_uri": "https://localhost:8080/"
        }
      },
      "execution_count": 14,
      "outputs": [
        {
          "output_type": "stream",
          "name": "stdout",
          "text": [
            "January\n",
            "February\n",
            "March\n",
            "April\n",
            "May\n",
            "June\n",
            "July\n",
            "August\n"
          ]
        }
      ]
    },
    {
      "cell_type": "markdown",
      "source": [
        "## Functions"
      ],
      "metadata": {
        "id": "-UGI_QgO1h07"
      }
    },
    {
      "cell_type": "markdown",
      "source": [
        "1. Write a python function named population_density that takes two arguments, population and land_area, and returns a population density calculated from those values.\n",
        "\n",
        "The population density can be calculated using this formula:\n",
        "\n",
        "population_density = population/land_area"
      ],
      "metadata": {
        "id": "f4bjOx-C1jar"
      }
    },
    {
      "cell_type": "code",
      "source": [
        "# Define a function to calculate population density\n",
        "def population_density(population, land_area):\n",
        "    population_density = population / land_area\n",
        "    return population_density\n",
        "\n",
        "# Call the function with the given population and land area values\n",
        "density = population_density(5000, 100)\n",
        "\n",
        "# Print the calculated population density\n",
        "print(density)"
      ],
      "metadata": {
        "id": "GJVkPniMLD82",
        "outputId": "3bd2162f-185f-4bee-f03b-748520b5e43c",
        "colab": {
          "base_uri": "https://localhost:8080/"
        }
      },
      "execution_count": 27,
      "outputs": [
        {
          "output_type": "stream",
          "name": "stdout",
          "text": [
            "50.0\n"
          ]
        }
      ]
    },
    {
      "cell_type": "markdown",
      "source": [
        "2. Write an `averagesteps()` function to compute the average the number of steps you take every day.\n",
        "\n",
        "- The function should accept a list and compute the average of all elements inside the list\n",
        "\n",
        "- Create a list with seven elements. The values in the list are your average steps your take everyday.\n",
        "\n",
        "- Pass the list to the function and call the function"
      ],
      "metadata": {
        "id": "DEryE1965T3U"
      }
    },
    {
      "cell_type": "code",
      "source": [
        "def averagesteps(steps_list):\n",
        "    \"\"\"\n",
        "    Compute the average number of steps taken per day.\n",
        "\n",
        "    Parameters:\n",
        "    - steps_list (list): List of integers representing the number of steps taken each day.\n",
        "\n",
        "    Returns:\n",
        "    - average (float): Average number of steps taken per day.\n",
        "    \"\"\"\n",
        "    total_steps = sum(steps_list)\n",
        "    num_days = len(steps_list)\n",
        "    average = total_steps / num_days\n",
        "    return average\n",
        "\n",
        "# Create a list of average steps taken each day\n",
        "steps_per_day = [5000, 6000, 7000, 8000, 9000, 10000, 11000]\n",
        "\n",
        "# Call the averagesteps() function and print the result\n",
        "average = averagesteps(steps_per_day)\n",
        "print(\"Average number of steps per day:\", average)\n"
      ],
      "metadata": {
        "id": "TzhnugYU6D-6",
        "outputId": "9b1ccd9f-4cb6-4f91-85f8-0ed2dbf66398",
        "colab": {
          "base_uri": "https://localhost:8080/"
        }
      },
      "execution_count": 22,
      "outputs": [
        {
          "output_type": "stream",
          "name": "stdout",
          "text": [
            "Average number of steps per day: 8000.0\n"
          ]
        }
      ]
    }
  ]
}